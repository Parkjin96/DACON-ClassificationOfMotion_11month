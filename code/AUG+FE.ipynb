{
 "cells": [
  {
   "cell_type": "markdown",
   "metadata": {},
   "source": [
    "# np.roll 활용 data augmentation\n",
    " - 참조  \n",
    " https://dacon.io/competitions/official/235689/codeshare/2347?page=1&dtype=recent&ptype=pub\n",
    " https://dacon.io/competitions/official/235689/codeshare/2306?page=1&dtype=recent&ptype=pub"
   ]
  },
  {
   "cell_type": "markdown",
   "metadata": {},
   "source": [
    "## np.roll -> shifted data -> new DataFrame"
   ]
  },
  {
   "cell_type": "code",
   "execution_count": 1,
   "metadata": {},
   "outputs": [],
   "source": [
    "import pandas as pd\n",
    "import numpy as np\n",
    "import random\n",
    "import matplotlib.pyplot as plt\n",
    "from tqdm import tqdm\n",
    "from glob import glob"
   ]
  },
  {
   "cell_type": "code",
   "execution_count": 2,
   "metadata": {},
   "outputs": [],
   "source": [
    "import matplotlib.pyplot as plt\n",
    "import seaborn as sns"
   ]
  },
  {
   "cell_type": "code",
   "execution_count": 3,
   "metadata": {},
   "outputs": [],
   "source": [
    "from tqdm import tqdm_notebook as tn"
   ]
  },
  {
   "cell_type": "code",
   "execution_count": 78,
   "metadata": {},
   "outputs": [],
   "source": [
    "train_features = pd.read_csv('train_features.csv')\n",
    "train_labels = pd.read_csv('train_labels.csv')\n",
    "test = pd.read_csv('test_features.csv')\n",
    "sample_submission = pd.read_csv('sample_submission.csv')"
   ]
  },
  {
   "cell_type": "code",
   "execution_count": 79,
   "metadata": {},
   "outputs": [],
   "source": [
    "TL = train_labels[['id','label']]"
   ]
  },
  {
   "cell_type": "code",
   "execution_count": 80,
   "metadata": {
    "scrolled": true
   },
   "outputs": [],
   "source": [
    "train = pd.merge(train_features,TL, how = 'left', on = 'id')"
   ]
  },
  {
   "cell_type": "code",
   "execution_count": 81,
   "metadata": {},
   "outputs": [
    {
     "data": {
      "text/html": [
       "<div>\n",
       "<style scoped>\n",
       "    .dataframe tbody tr th:only-of-type {\n",
       "        vertical-align: middle;\n",
       "    }\n",
       "\n",
       "    .dataframe tbody tr th {\n",
       "        vertical-align: top;\n",
       "    }\n",
       "\n",
       "    .dataframe thead th {\n",
       "        text-align: right;\n",
       "    }\n",
       "</style>\n",
       "<table border=\"1\" class=\"dataframe\">\n",
       "  <thead>\n",
       "    <tr style=\"text-align: right;\">\n",
       "      <th></th>\n",
       "      <th>id</th>\n",
       "      <th>time</th>\n",
       "      <th>acc_x</th>\n",
       "      <th>acc_y</th>\n",
       "      <th>acc_z</th>\n",
       "      <th>gy_x</th>\n",
       "      <th>gy_y</th>\n",
       "      <th>gy_z</th>\n",
       "      <th>label</th>\n",
       "    </tr>\n",
       "  </thead>\n",
       "  <tbody>\n",
       "    <tr>\n",
       "      <th>0</th>\n",
       "      <td>0</td>\n",
       "      <td>0</td>\n",
       "      <td>1.206087</td>\n",
       "      <td>-0.179371</td>\n",
       "      <td>-0.148447</td>\n",
       "      <td>-0.591608</td>\n",
       "      <td>-30.549010</td>\n",
       "      <td>-31.676112</td>\n",
       "      <td>37</td>\n",
       "    </tr>\n",
       "    <tr>\n",
       "      <th>1</th>\n",
       "      <td>0</td>\n",
       "      <td>1</td>\n",
       "      <td>1.287696</td>\n",
       "      <td>-0.198974</td>\n",
       "      <td>-0.182444</td>\n",
       "      <td>0.303100</td>\n",
       "      <td>-39.139103</td>\n",
       "      <td>-24.927216</td>\n",
       "      <td>37</td>\n",
       "    </tr>\n",
       "    <tr>\n",
       "      <th>2</th>\n",
       "      <td>0</td>\n",
       "      <td>2</td>\n",
       "      <td>1.304609</td>\n",
       "      <td>-0.195114</td>\n",
       "      <td>-0.253382</td>\n",
       "      <td>-3.617278</td>\n",
       "      <td>-44.122565</td>\n",
       "      <td>-25.019629</td>\n",
       "      <td>37</td>\n",
       "    </tr>\n",
       "    <tr>\n",
       "      <th>3</th>\n",
       "      <td>0</td>\n",
       "      <td>3</td>\n",
       "      <td>1.293095</td>\n",
       "      <td>-0.230366</td>\n",
       "      <td>-0.215210</td>\n",
       "      <td>2.712986</td>\n",
       "      <td>-53.597843</td>\n",
       "      <td>-27.454013</td>\n",
       "      <td>37</td>\n",
       "    </tr>\n",
       "    <tr>\n",
       "      <th>4</th>\n",
       "      <td>0</td>\n",
       "      <td>4</td>\n",
       "      <td>1.300887</td>\n",
       "      <td>-0.187757</td>\n",
       "      <td>-0.222523</td>\n",
       "      <td>4.286707</td>\n",
       "      <td>-57.906561</td>\n",
       "      <td>-27.961234</td>\n",
       "      <td>37</td>\n",
       "    </tr>\n",
       "  </tbody>\n",
       "</table>\n",
       "</div>"
      ],
      "text/plain": [
       "   id  time     acc_x     acc_y     acc_z      gy_x       gy_y       gy_z  \\\n",
       "0   0     0  1.206087 -0.179371 -0.148447 -0.591608 -30.549010 -31.676112   \n",
       "1   0     1  1.287696 -0.198974 -0.182444  0.303100 -39.139103 -24.927216   \n",
       "2   0     2  1.304609 -0.195114 -0.253382 -3.617278 -44.122565 -25.019629   \n",
       "3   0     3  1.293095 -0.230366 -0.215210  2.712986 -53.597843 -27.454013   \n",
       "4   0     4  1.300887 -0.187757 -0.222523  4.286707 -57.906561 -27.961234   \n",
       "\n",
       "   label  \n",
       "0     37  \n",
       "1     37  \n",
       "2     37  \n",
       "3     37  \n",
       "4     37  "
      ]
     },
     "execution_count": 81,
     "metadata": {},
     "output_type": "execute_result"
    }
   ],
   "source": [
    "train.head()"
   ]
  },
  {
   "cell_type": "code",
   "execution_count": 82,
   "metadata": {},
   "outputs": [],
   "source": [
    "Label_counts = pd.DataFrame(TL['label'].value_counts())"
   ]
  },
  {
   "cell_type": "code",
   "execution_count": 83,
   "metadata": {},
   "outputs": [
    {
     "data": {
      "text/plain": [
       "26    1518\n",
       "8       97\n",
       "28      55\n",
       "60      48\n",
       "18      47\n",
       "      ... \n",
       "53      13\n",
       "52      12\n",
       "13      12\n",
       "12      12\n",
       "0       12\n",
       "Name: label, Length: 61, dtype: int64"
      ]
     },
     "execution_count": 83,
     "metadata": {},
     "output_type": "execute_result"
    }
   ],
   "source": [
    "TL['label'].value_counts()"
   ]
  },
  {
   "cell_type": "markdown",
   "metadata": {},
   "source": [
    "# <font bord>label 개수 확인 n개보다 적으면 augmentation</font>\n",
    " 1. lable 개수 확인(<n)\n",
    " 2. augmentation할 label 저장(list)\n",
    " 3. label 하나씩 dataframe 불러오기\n",
    " 4. 불러온 data id 개수 확인\n",
    " 5. id 한개당 몇개의 shifted data 만들지 계산\n",
    "     - 한개당 -> int(500/id) - shift(15씩)\n",
    " 6. shift data -> data frame 변환 id,labe,time등 지정\n",
    " 7. all_shift에 concat하기"
   ]
  },
  {
   "cell_type": "code",
   "execution_count": 88,
   "metadata": {},
   "outputs": [],
   "source": [
    "n = 300"
   ]
  },
  {
   "cell_type": "code",
   "execution_count": 89,
   "metadata": {},
   "outputs": [],
   "source": [
    "#1.\n",
    "def check_label(data, label, num):\n",
    "    tem = data[data['label'] == label]\n",
    "    if len(tem['id'].unique())<num:\n",
    "        return True\n",
    "    else : return False"
   ]
  },
  {
   "cell_type": "code",
   "execution_count": 90,
   "metadata": {},
   "outputs": [],
   "source": [
    "# 데이터 변환\n",
    "def make_train_data(data):\n",
    "    train_features = data\n",
    "    x_train = []\n",
    "\n",
    "    for uid in tqdm(train_features['id'].unique()):\n",
    "        temp = np.array(train_features[train_features['id'] == uid].iloc[:,2:], np.float32).T\n",
    "        x_train.append(temp)\n",
    "\n",
    "    x_train = np.array(x_train, np.float32)\n",
    "    x_train = x_train[:,:,:,np.newaxis]\n",
    "    \n",
    "    return x_train"
   ]
  },
  {
   "cell_type": "code",
   "execution_count": 91,
   "metadata": {},
   "outputs": [
    {
     "name": "stderr",
     "output_type": "stream",
     "text": [
      "c:\\anaconda3\\lib\\site-packages\\ipykernel_launcher.py:3: TqdmDeprecationWarning: This function will be removed in tqdm==5.0.0\n",
      "Please use `tqdm.notebook.tqdm` instead of `tqdm.tqdm_notebook`\n",
      "  This is separate from the ipykernel package so we can avoid doing imports until\n"
     ]
    },
    {
     "data": {
      "application/vnd.jupyter.widget-view+json": {
       "model_id": "1d734b86f0ce4958a51d7ceed96d9799",
       "version_major": 2,
       "version_minor": 0
      },
      "text/plain": [
       "HBox(children=(HTML(value=''), FloatProgress(value=0.0, max=61.0), HTML(value='')))"
      ]
     },
     "metadata": {},
     "output_type": "display_data"
    },
    {
     "name": "stdout",
     "output_type": "stream",
     "text": [
      "\n"
     ]
    }
   ],
   "source": [
    "#2.\n",
    "small_label = []\n",
    "for i in tn(list(train_labels['label'].unique())):\n",
    "    if check_label(train,i,n):\n",
    "        small_label.append(i)"
   ]
  },
  {
   "cell_type": "code",
   "execution_count": 92,
   "metadata": {},
   "outputs": [],
   "source": [
    "#.데이터 프레임으로 변환\n",
    "def make_shifted_data(train_data, shift_num,new_id):\n",
    "    shift_data =  np.roll(train_data, shift_num, axis=2)\n",
    "    time = list(range(0,600))\n",
    "    a = pd.DataFrame()\n",
    "    a['acc_x'] = list(shift_data[0][0].reshape(1,-1)[0])\n",
    "    a['acc_y'] = list(shift_data[0][1].reshape(1,-1)[0])\n",
    "    a['acc_z'] = list(shift_data[0][2].reshape(1,-1)[0])\n",
    "    a['gy_x'] = list(shift_data[0][3].reshape(1,-1)[0])\n",
    "    a['gy_y'] = list(shift_data[0][4].reshape(1,-1)[0])\n",
    "    a['gy_z'] = list(shift_data[0][5].reshape(1,-1)[0])\n",
    "    a['label'] = list(shift_data[0][6].reshape(1,-1)[0])\n",
    "    a['id'] = new_id\n",
    "    a['time'] = time\n",
    "    return a"
   ]
  },
  {
   "cell_type": "code",
   "execution_count": 93,
   "metadata": {},
   "outputs": [],
   "source": [
    "total_shift_data = pd.DataFrame()"
   ]
  },
  {
   "cell_type": "code",
   "execution_count": 94,
   "metadata": {},
   "outputs": [],
   "source": [
    "def change_col1(X_train):\n",
    "    col_name = []\n",
    "    for i in range(len(X_train.columns)):\n",
    "        tm_str = '0/0'+X_train.columns[i][0] + '_' + X_train.columns[i][1]\n",
    "        col_name.append(tm_str)\n",
    "    X_train.columns = col_name\n",
    "    return X_train"
   ]
  },
  {
   "cell_type": "code",
   "execution_count": 95,
   "metadata": {},
   "outputs": [
    {
     "name": "stderr",
     "output_type": "stream",
     "text": [
      "c:\\anaconda3\\lib\\site-packages\\ipykernel_launcher.py:5: TqdmDeprecationWarning: This function will be removed in tqdm==5.0.0\n",
      "Please use `tqdm.notebook.tqdm` instead of `tqdm.tqdm_notebook`\n",
      "  \"\"\"\n"
     ]
    },
    {
     "data": {
      "application/vnd.jupyter.widget-view+json": {
       "model_id": "2398875c72294216a460414d907e10ef",
       "version_major": 2,
       "version_minor": 0
      },
      "text/plain": [
       "HBox(children=(HTML(value=''), FloatProgress(value=0.0, max=3.0), HTML(value='')))"
      ]
     },
     "metadata": {},
     "output_type": "display_data"
    },
    {
     "name": "stdout",
     "output_type": "stream",
     "text": [
      "\n"
     ]
    }
   ],
   "source": [
    "features = ['id', 'acc_x', 'acc_y', 'acc_z', 'gy_x', 'gy_y', 'gy_z']\n",
    "add_col = []\n",
    "for i in range(0,1):\n",
    "    tm_data = train_features[train_features['id'] == i]\n",
    "    for j in tn([2,4,8]):\n",
    "        start_num = 0\n",
    "        for k in range(1,j+1):\n",
    "            split_num = int(600 * k / j)\n",
    "            tm_data2 = tm_data.iloc[start_num:split_num,:]\n",
    "            tm_train = tm_data2[features].groupby('id').agg(['max', 'min', 'mean','std'])\n",
    "            \n",
    "            for q in range(len(tm_train.columns)):\n",
    "                tm_str = str(k)+'/'+str(j)+tm_train.columns[q][0] + '_' + tm_train.columns[q][1]\n",
    "                add_col.append(tm_str)\n",
    "            start_num = split_num"
   ]
  },
  {
   "cell_type": "code",
   "execution_count": 96,
   "metadata": {},
   "outputs": [],
   "source": [
    "def add_FE(tm_data,df,id_):\n",
    "#     print(df)\n",
    "#     print(tm_data)\n",
    "    features = ['id', 'acc_x', 'acc_y', 'acc_z', 'gy_x', 'gy_y', 'gy_z']\n",
    "    for j in [2,4,8]:\n",
    "        start_num = 0\n",
    "        for k in range(1,j+1):\n",
    "            split_num = int(600 * k / j)\n",
    "            tm_data2 = tm_data.iloc[start_num:split_num,:]\n",
    "            tm_train = tm_data2[features].groupby('id').agg(['max', 'min', 'mean','std'])\n",
    "            tm_col = []\n",
    "            for q in range(len(tm_train.columns)):\n",
    "                tm_str = str(k)+'/'+str(j)+tm_train.columns[q][0] + '_' + tm_train.columns[q][1]\n",
    "                tm_col.append(tm_str)\n",
    "#             print('temtrain이오오오')\n",
    "#             print(tm_train)\n",
    "            df.loc[id_,tm_col[0]:tm_col[-1]] = list(tm_train.iloc[0,:])\n",
    "            \n",
    "#             print(tm_col)\n",
    "#             print('id_,tm_col[0]:tm_col[-1]id_,tm_col[0]:tm_col[-1]id_,tm_col[0]:tm_col[-1]id_,tm_col[0]:tm_col[-1]')\n",
    "#             print(df.loc[id_,tm_col[0]:tm_col[-1]])\n",
    "#             print('tm_train.iloc[0,:]tm_train.iloc[0,:]tm_train.iloc[0,:]tm_train.iloc[0,:]tm_train.iloc[0,:]')\n",
    "#             print(tm_train.iloc[0,:])\n",
    "#             print('df여기부터 최ㅈ오')\n",
    "#             print(df)\n",
    "            tm_col = []\n",
    "            start_num = split_num\n",
    "#     print('마ㅏㅏㅏㅏㅏㅏㅏㅏㅏㅏㅏㅏㅏㅏㅏㅏㅏㅏㅏㅏㅏㅏㅏㅏㅏㅏㅏㅏ')\n",
    "#     print(df)\n",
    "    return df"
   ]
  },
  {
   "cell_type": "code",
   "execution_count": null,
   "metadata": {},
   "outputs": [
    {
     "name": "stderr",
     "output_type": "stream",
     "text": [
      "c:\\anaconda3\\lib\\site-packages\\ipykernel_launcher.py:4: TqdmDeprecationWarning: This function will be removed in tqdm==5.0.0\n",
      "Please use `tqdm.notebook.tqdm` instead of `tqdm.tqdm_notebook`\n",
      "  after removing the cwd from sys.path.\n"
     ]
    },
    {
     "data": {
      "application/vnd.jupyter.widget-view+json": {
       "model_id": "b2608abbacf243d4b0af33c025d412ab",
       "version_major": 2,
       "version_minor": 0
      },
      "text/plain": [
       "HBox(children=(HTML(value=''), FloatProgress(value=0.0, max=60.0), HTML(value='')))"
      ]
     },
     "metadata": {},
     "output_type": "display_data"
    },
    {
     "name": "stderr",
     "output_type": "stream",
     "text": [
      "100%|███████████████████████████████████████████████████████████████████████████████████| 1/1 [00:00<00:00, 501.17it/s]\n"
     ]
    },
    {
     "name": "stdout",
     "output_type": "stream",
     "text": [
      "label,  37 진행중\n",
      "(1, 361)\n",
      "(2, 361)\n",
      "(3, 361)\n",
      "(4, 361)\n",
      "(5, 361)\n",
      "(6, 361)\n",
      "(7, 361)\n"
     ]
    },
    {
     "name": "stderr",
     "output_type": "stream",
     "text": [
      "100%|███████████████████████████████████████████████████████████████████████████████████| 1/1 [00:00<00:00, 501.05it/s]"
     ]
    },
    {
     "name": "stdout",
     "output_type": "stream",
     "text": [
      "(8, 361)\n"
     ]
    },
    {
     "name": "stderr",
     "output_type": "stream",
     "text": [
      "\n"
     ]
    },
    {
     "name": "stdout",
     "output_type": "stream",
     "text": [
      "(9, 361)\n",
      "(10, 361)\n",
      "(11, 361)\n",
      "(12, 361)\n",
      "(13, 361)\n",
      "(14, 361)\n",
      "(15, 361)\n"
     ]
    },
    {
     "name": "stderr",
     "output_type": "stream",
     "text": [
      "100%|███████████████████████████████████████████████████████████████████████████████████| 1/1 [00:00<00:00, 334.07it/s]"
     ]
    },
    {
     "name": "stdout",
     "output_type": "stream",
     "text": [
      "(16, 361)\n"
     ]
    },
    {
     "name": "stderr",
     "output_type": "stream",
     "text": [
      "\n"
     ]
    },
    {
     "name": "stdout",
     "output_type": "stream",
     "text": [
      "(17, 361)\n",
      "(18, 361)\n",
      "(19, 361)\n",
      "(20, 361)\n",
      "(21, 361)\n",
      "(22, 361)\n",
      "(23, 361)\n"
     ]
    },
    {
     "name": "stderr",
     "output_type": "stream",
     "text": [
      "100%|███████████████████████████████████████████████████████████████████████████████████| 1/1 [00:00<00:00, 513.94it/s]"
     ]
    },
    {
     "name": "stdout",
     "output_type": "stream",
     "text": [
      "(24, 361)\n"
     ]
    },
    {
     "name": "stderr",
     "output_type": "stream",
     "text": [
      "\n"
     ]
    },
    {
     "name": "stdout",
     "output_type": "stream",
     "text": [
      "(25, 361)\n",
      "(26, 361)\n",
      "(27, 361)\n",
      "(28, 361)\n",
      "(29, 361)\n",
      "(30, 361)\n",
      "(31, 361)\n"
     ]
    },
    {
     "name": "stderr",
     "output_type": "stream",
     "text": [
      "100%|███████████████████████████████████████████████████████████████████████████████████| 1/1 [00:00<00:00, 331.23it/s]"
     ]
    },
    {
     "name": "stdout",
     "output_type": "stream",
     "text": [
      "(32, 361)\n"
     ]
    },
    {
     "name": "stderr",
     "output_type": "stream",
     "text": [
      "\n"
     ]
    },
    {
     "name": "stdout",
     "output_type": "stream",
     "text": [
      "(33, 361)\n",
      "(34, 361)\n",
      "(35, 361)\n",
      "(36, 361)\n",
      "(37, 361)\n",
      "(38, 361)\n",
      "(39, 361)\n"
     ]
    },
    {
     "name": "stderr",
     "output_type": "stream",
     "text": [
      "100%|███████████████████████████████████████████████████████████████████████████████████| 1/1 [00:00<00:00, 500.63it/s]"
     ]
    },
    {
     "name": "stdout",
     "output_type": "stream",
     "text": [
      "(40, 361)\n"
     ]
    },
    {
     "name": "stderr",
     "output_type": "stream",
     "text": [
      "\n"
     ]
    },
    {
     "name": "stdout",
     "output_type": "stream",
     "text": [
      "(41, 361)\n",
      "(42, 361)\n",
      "(43, 361)\n",
      "(44, 361)\n",
      "(45, 361)\n",
      "(46, 361)\n",
      "(47, 361)\n"
     ]
    },
    {
     "name": "stderr",
     "output_type": "stream",
     "text": [
      "100%|███████████████████████████████████████████████████████████████████████████████████| 1/1 [00:00<00:00, 494.38it/s]"
     ]
    },
    {
     "name": "stdout",
     "output_type": "stream",
     "text": [
      "(48, 361)\n"
     ]
    },
    {
     "name": "stderr",
     "output_type": "stream",
     "text": [
      "\n"
     ]
    },
    {
     "name": "stdout",
     "output_type": "stream",
     "text": [
      "(49, 361)\n",
      "(50, 361)\n",
      "(51, 361)\n",
      "(52, 361)\n",
      "(53, 361)\n",
      "(54, 361)\n",
      "(55, 361)\n"
     ]
    },
    {
     "name": "stderr",
     "output_type": "stream",
     "text": [
      "100%|███████████████████████████████████████████████████████████████████████████████████| 1/1 [00:00<00:00, 508.09it/s]"
     ]
    },
    {
     "name": "stdout",
     "output_type": "stream",
     "text": [
      "(56, 361)\n"
     ]
    },
    {
     "name": "stderr",
     "output_type": "stream",
     "text": [
      "\n"
     ]
    },
    {
     "name": "stdout",
     "output_type": "stream",
     "text": [
      "(57, 361)\n",
      "(58, 361)\n",
      "(59, 361)\n",
      "(60, 361)\n",
      "(61, 361)\n",
      "(62, 361)\n",
      "(63, 361)\n"
     ]
    },
    {
     "name": "stderr",
     "output_type": "stream",
     "text": [
      "100%|██████████████████████████████████████████████████████████████████████████████████| 1/1 [00:00<00:00, 1002.22it/s]"
     ]
    },
    {
     "name": "stdout",
     "output_type": "stream",
     "text": [
      "(64, 361)\n"
     ]
    },
    {
     "name": "stderr",
     "output_type": "stream",
     "text": [
      "\n"
     ]
    },
    {
     "name": "stdout",
     "output_type": "stream",
     "text": [
      "(65, 361)\n",
      "(66, 361)\n",
      "(67, 361)\n",
      "(68, 361)\n",
      "(69, 361)\n",
      "(70, 361)\n",
      "(71, 361)\n"
     ]
    },
    {
     "name": "stderr",
     "output_type": "stream",
     "text": [
      "100%|███████████████████████████████████████████████████████████████████████████████████| 1/1 [00:00<00:00, 500.69it/s]"
     ]
    },
    {
     "name": "stdout",
     "output_type": "stream",
     "text": [
      "(72, 361)\n"
     ]
    },
    {
     "name": "stderr",
     "output_type": "stream",
     "text": [
      "\n"
     ]
    },
    {
     "name": "stdout",
     "output_type": "stream",
     "text": [
      "(73, 361)\n",
      "(74, 361)\n",
      "(75, 361)\n",
      "(76, 361)\n",
      "(77, 361)\n",
      "(78, 361)\n",
      "(79, 361)\n"
     ]
    },
    {
     "name": "stderr",
     "output_type": "stream",
     "text": [
      "100%|███████████████████████████████████████████████████████████████████████████████████| 1/1 [00:00<00:00, 500.57it/s]"
     ]
    },
    {
     "name": "stdout",
     "output_type": "stream",
     "text": [
      "(80, 361)\n"
     ]
    },
    {
     "name": "stderr",
     "output_type": "stream",
     "text": [
      "\n"
     ]
    },
    {
     "name": "stdout",
     "output_type": "stream",
     "text": [
      "(81, 361)\n",
      "(82, 361)\n",
      "(83, 361)\n",
      "(84, 361)\n",
      "(85, 361)\n",
      "(86, 361)\n",
      "(87, 361)\n"
     ]
    },
    {
     "name": "stderr",
     "output_type": "stream",
     "text": [
      "100%|██████████████████████████████████████████████████████████████████████████████████| 1/1 [00:00<00:00, 1045.70it/s]"
     ]
    },
    {
     "name": "stdout",
     "output_type": "stream",
     "text": [
      "(88, 361)\n"
     ]
    },
    {
     "name": "stderr",
     "output_type": "stream",
     "text": [
      "\n"
     ]
    },
    {
     "name": "stdout",
     "output_type": "stream",
     "text": [
      "(89, 361)\n",
      "(90, 361)\n",
      "(91, 361)\n",
      "(92, 361)\n",
      "(93, 361)\n",
      "(94, 361)\n",
      "(95, 361)\n"
     ]
    },
    {
     "name": "stderr",
     "output_type": "stream",
     "text": [
      "100%|███████████████████████████████████████████████████████████████████████████████████| 1/1 [00:00<00:00, 200.37it/s]"
     ]
    },
    {
     "name": "stdout",
     "output_type": "stream",
     "text": [
      "(96, 361)\n"
     ]
    },
    {
     "name": "stderr",
     "output_type": "stream",
     "text": [
      "\n"
     ]
    },
    {
     "name": "stdout",
     "output_type": "stream",
     "text": [
      "(97, 361)\n",
      "(98, 361)\n",
      "(99, 361)\n",
      "(100, 361)\n",
      "(101, 361)\n",
      "(102, 361)\n",
      "(103, 361)\n"
     ]
    },
    {
     "name": "stderr",
     "output_type": "stream",
     "text": [
      "100%|███████████████████████████████████████████████████████████████████████████████████| 1/1 [00:00<00:00, 501.47it/s]"
     ]
    },
    {
     "name": "stdout",
     "output_type": "stream",
     "text": [
      "(104, 361)\n"
     ]
    },
    {
     "name": "stderr",
     "output_type": "stream",
     "text": [
      "\n"
     ]
    },
    {
     "name": "stdout",
     "output_type": "stream",
     "text": [
      "(105, 361)\n",
      "(106, 361)\n",
      "(107, 361)\n",
      "(108, 361)\n",
      "(109, 361)\n",
      "(110, 361)\n",
      "(111, 361)\n"
     ]
    },
    {
     "name": "stderr",
     "output_type": "stream",
     "text": [
      "100%|███████████████████████████████████████████████████████████████████████████████████| 1/1 [00:00<00:00, 496.54it/s]"
     ]
    },
    {
     "name": "stdout",
     "output_type": "stream",
     "text": [
      "(112, 361)\n"
     ]
    },
    {
     "name": "stderr",
     "output_type": "stream",
     "text": [
      "\n"
     ]
    },
    {
     "name": "stdout",
     "output_type": "stream",
     "text": [
      "(113, 361)\n",
      "(114, 361)\n",
      "(115, 361)\n",
      "(116, 361)\n",
      "(117, 361)\n",
      "(118, 361)\n",
      "(119, 361)\n"
     ]
    },
    {
     "name": "stderr",
     "output_type": "stream",
     "text": [
      "100%|███████████████████████████████████████████████████████████████████████████████████| 1/1 [00:00<00:00, 501.59it/s]"
     ]
    },
    {
     "name": "stdout",
     "output_type": "stream",
     "text": [
      "(120, 361)\n"
     ]
    },
    {
     "name": "stderr",
     "output_type": "stream",
     "text": [
      "\n"
     ]
    },
    {
     "name": "stdout",
     "output_type": "stream",
     "text": [
      "(121, 361)\n",
      "(122, 361)\n",
      "(123, 361)\n",
      "(124, 361)\n",
      "(125, 361)\n",
      "(126, 361)\n",
      "(127, 361)\n"
     ]
    },
    {
     "name": "stderr",
     "output_type": "stream",
     "text": [
      "100%|███████████████████████████████████████████████████████████████████████████████████| 1/1 [00:00<00:00, 500.75it/s]"
     ]
    },
    {
     "name": "stdout",
     "output_type": "stream",
     "text": [
      "(128, 361)\n"
     ]
    },
    {
     "name": "stderr",
     "output_type": "stream",
     "text": [
      "\n"
     ]
    },
    {
     "name": "stdout",
     "output_type": "stream",
     "text": [
      "(129, 361)\n",
      "(130, 361)\n",
      "(131, 361)\n",
      "(132, 361)\n",
      "(133, 361)\n",
      "(134, 361)\n",
      "(135, 361)\n"
     ]
    },
    {
     "name": "stderr",
     "output_type": "stream",
     "text": [
      "100%|███████████████████████████████████████████████████████████████████████████████████| 1/1 [00:00<00:00, 337.30it/s]"
     ]
    },
    {
     "name": "stdout",
     "output_type": "stream",
     "text": [
      "(136, 361)\n"
     ]
    },
    {
     "name": "stderr",
     "output_type": "stream",
     "text": [
      "\n"
     ]
    },
    {
     "name": "stdout",
     "output_type": "stream",
     "text": [
      "(137, 361)\n",
      "(138, 361)\n",
      "(139, 361)\n",
      "(140, 361)\n",
      "(141, 361)\n",
      "(142, 361)\n",
      "(143, 361)\n"
     ]
    },
    {
     "name": "stderr",
     "output_type": "stream",
     "text": [
      "100%|███████████████████████████████████████████████████████████████████████████████████| 1/1 [00:00<00:00, 320.81it/s]"
     ]
    },
    {
     "name": "stdout",
     "output_type": "stream",
     "text": [
      "(144, 361)\n"
     ]
    },
    {
     "name": "stderr",
     "output_type": "stream",
     "text": [
      "\n"
     ]
    },
    {
     "name": "stdout",
     "output_type": "stream",
     "text": [
      "(145, 361)\n",
      "(146, 361)\n",
      "(147, 361)\n",
      "(148, 361)\n",
      "(149, 361)\n",
      "(150, 361)\n",
      "(151, 361)\n"
     ]
    },
    {
     "name": "stderr",
     "output_type": "stream",
     "text": [
      "100%|███████████████████████████████████████████████████████████████████████████████████| 1/1 [00:00<00:00, 501.11it/s]"
     ]
    },
    {
     "name": "stdout",
     "output_type": "stream",
     "text": [
      "(152, 361)\n"
     ]
    },
    {
     "name": "stderr",
     "output_type": "stream",
     "text": [
      "\n"
     ]
    },
    {
     "name": "stdout",
     "output_type": "stream",
     "text": [
      "(153, 361)\n",
      "(154, 361)\n",
      "(155, 361)\n",
      "(156, 361)\n",
      "(157, 361)\n",
      "(158, 361)\n",
      "(159, 361)\n"
     ]
    },
    {
     "name": "stderr",
     "output_type": "stream",
     "text": [
      "100%|███████████████████████████████████████████████████████████████████████████████████| 1/1 [00:00<00:00, 500.39it/s]"
     ]
    },
    {
     "name": "stdout",
     "output_type": "stream",
     "text": [
      "(160, 361)\n"
     ]
    },
    {
     "name": "stderr",
     "output_type": "stream",
     "text": [
      "\n"
     ]
    },
    {
     "name": "stdout",
     "output_type": "stream",
     "text": [
      "(161, 361)\n",
      "(162, 361)\n",
      "(163, 361)\n",
      "(164, 361)\n",
      "(165, 361)\n",
      "(166, 361)\n",
      "(167, 361)\n"
     ]
    },
    {
     "name": "stderr",
     "output_type": "stream",
     "text": [
      "100%|████████████████████████████████████████████████████████████████████████████████████████████| 1/1 [00:00<?, ?it/s]"
     ]
    },
    {
     "name": "stdout",
     "output_type": "stream",
     "text": [
      "(168, 361)\n"
     ]
    },
    {
     "name": "stderr",
     "output_type": "stream",
     "text": [
      "\n"
     ]
    },
    {
     "name": "stdout",
     "output_type": "stream",
     "text": [
      "(169, 361)\n",
      "(170, 361)\n",
      "(171, 361)\n",
      "(172, 361)\n",
      "(173, 361)\n",
      "(174, 361)\n",
      "(175, 361)\n"
     ]
    },
    {
     "name": "stderr",
     "output_type": "stream",
     "text": [
      "100%|███████████████████████████████████████████████████████████████████████████████████| 1/1 [00:00<00:00, 500.57it/s]"
     ]
    },
    {
     "name": "stdout",
     "output_type": "stream",
     "text": [
      "(176, 361)\n"
     ]
    },
    {
     "name": "stderr",
     "output_type": "stream",
     "text": [
      "\n"
     ]
    },
    {
     "name": "stdout",
     "output_type": "stream",
     "text": [
      "(177, 361)\n",
      "(178, 361)\n",
      "(179, 361)\n",
      "(180, 361)\n",
      "(181, 361)\n",
      "(182, 361)\n",
      "(183, 361)\n"
     ]
    },
    {
     "name": "stderr",
     "output_type": "stream",
     "text": [
      "100%|███████████████████████████████████████████████████████████████████████████████████| 1/1 [00:00<00:00, 491.37it/s]"
     ]
    },
    {
     "name": "stdout",
     "output_type": "stream",
     "text": [
      "(184, 361)\n"
     ]
    },
    {
     "name": "stderr",
     "output_type": "stream",
     "text": [
      "\n"
     ]
    },
    {
     "name": "stdout",
     "output_type": "stream",
     "text": [
      "(185, 361)\n",
      "(186, 361)\n",
      "(187, 361)\n",
      "(188, 361)\n",
      "(189, 361)\n",
      "(190, 361)\n",
      "(191, 361)\n"
     ]
    },
    {
     "name": "stderr",
     "output_type": "stream",
     "text": [
      "100%|███████████████████████████████████████████████████████████████████████████████████| 1/1 [00:00<00:00, 334.21it/s]"
     ]
    },
    {
     "name": "stdout",
     "output_type": "stream",
     "text": [
      "(192, 361)\n"
     ]
    },
    {
     "name": "stderr",
     "output_type": "stream",
     "text": [
      "\n"
     ]
    },
    {
     "name": "stdout",
     "output_type": "stream",
     "text": [
      "(193, 361)\n",
      "(194, 361)\n",
      "(195, 361)\n",
      "(196, 361)\n",
      "(197, 361)\n",
      "(198, 361)\n",
      "(199, 361)\n"
     ]
    },
    {
     "name": "stderr",
     "output_type": "stream",
     "text": [
      "100%|██████████████████████████████████████████████████████████████████████████████████| 1/1 [00:00<00:00, 1041.03it/s]"
     ]
    },
    {
     "name": "stdout",
     "output_type": "stream",
     "text": [
      "(200, 361)\n"
     ]
    },
    {
     "name": "stderr",
     "output_type": "stream",
     "text": [
      "\n"
     ]
    },
    {
     "name": "stdout",
     "output_type": "stream",
     "text": [
      "(201, 361)\n",
      "(202, 361)\n",
      "(203, 361)\n",
      "(204, 361)\n"
     ]
    }
   ],
   "source": [
    "#3 ~ 7.\n",
    "features = ['id', 'acc_x', 'acc_y', 'acc_z', 'gy_x', 'gy_y', 'gy_z']\n",
    "new_id = 1000\n",
    "for i in tn(small_label):\n",
    "    print('label, ',i,\"진행중\")\n",
    "    tem_data = train[train['label'] == i]\n",
    "    id_num = list(tem_data['id'].unique())\n",
    "    how_many_shift = int(n/len(id_num))\n",
    "    for k in id_num:\n",
    "        tem_id_data = tem_data[tem_data['id'] == k]\n",
    "        train_data = make_train_data(tem_id_data)\n",
    "        for j in range(1,how_many_shift+1):\n",
    "            shift_num = 19 * j\n",
    "            shifted_data = make_shifted_data(train_data, shift_num,new_id)\n",
    "#             print(shifted_data.shape)\n",
    "            X_train = shifted_data[features].groupby('id').agg(['max', 'min', 'mean','std'])\n",
    "            X_train = change_col1(X_train)\n",
    "            for i in add_col:\n",
    "                X_train[i] = 0\n",
    "#             print(X_train.iloc[0,:])\n",
    "            X_train = add_FE(shifted_data,X_train,new_id)                   \n",
    "#             print(X_train.iloc[0,:])\n",
    "            \n",
    "            X_train['label'] = i\n",
    "            \n",
    "#             ch_col = []\n",
    "#             for i in list(X_train.columns):\n",
    "#                 if i[2] != '0' and i[-3:] == 'ean':\n",
    "#                     ch_col.append(i)\n",
    "#             X_train['std1'] = X_train[[ch_col[0],ch_col[6]]].std(1)\n",
    "#             X_train['std2'] = X_train[[ch_col[1],ch_col[7]]].std(1)\n",
    "#             X_train['std3'] = X_train[[ch_col[2],ch_col[8]]].std(1)\n",
    "#             X_train['std4'] = X_train[[ch_col[3],ch_col[9]]].std(1)\n",
    "#             X_train['std5'] = X_train[[ch_col[4],ch_col[10]]].std(1)\n",
    "#             X_train['std6'] = X_train[[ch_col[5],ch_col[11]]].std(1)\n",
    "#             X_train['std7'] = X_train[[ch_col[12],ch_col[18],ch_col[24],ch_col[30]]].std(1)\n",
    "#             X_train['std8'] = X_train[[ch_col[13],ch_col[19],ch_col[25],ch_col[31]]].std(1)\n",
    "#             X_train['std9'] = X_train[[ch_col[14],ch_col[20],ch_col[26],ch_col[32]]].std(1)\n",
    "#             X_train['std10'] = X_train[[ch_col[15],ch_col[21],ch_col[27],ch_col[33]]].std(1)\n",
    "#             X_train['std11'] = X_train[[ch_col[16],ch_col[22],ch_col[28],ch_col[34]]].std(1)\n",
    "#             X_train['std12'] = X_train[[ch_col[17],ch_col[23],ch_col[29],ch_col[35]]].std(1)\n",
    "#             X_train['std13'] = X_train[[ch_col[36],ch_col[42],ch_col[48],ch_col[54],ch_col[60],ch_col[66],ch_col[72],ch_col[78]]].std(1)\n",
    "#             X_train['std14'] = X_train[[ch_col[37],ch_col[43],ch_col[49],ch_col[55],ch_col[61],ch_col[67],ch_col[73],ch_col[79]]].std(1)\n",
    "#             X_train['std15'] = X_train[[ch_col[38],ch_col[44],ch_col[50],ch_col[56],ch_col[62],ch_col[68],ch_col[74],ch_col[80]]].std(1)\n",
    "#             X_train['std16'] = X_train[[ch_col[39],ch_col[45],ch_col[51],ch_col[57],ch_col[63],ch_col[69],ch_col[75],ch_col[81]]].std(1)\n",
    "#             X_train['std17'] = X_train[[ch_col[40],ch_col[46],ch_col[52],ch_col[58],ch_col[64],ch_col[70],ch_col[76],ch_col[82]]].std(1)\n",
    "#             X_train['std18'] = X_train[[ch_col[41],ch_col[47],ch_col[53],ch_col[59],ch_col[65],ch_col[71],ch_col[77],ch_col[83]]].std(1)\n",
    "            \n",
    "#             X_train['std_max_col'] = 0\n",
    "#             X_train['std_min_col'] = 0\n",
    "            \n",
    "#             tm_l = list(X_train.loc[new_id,'std1':'std18'])\n",
    "#             X_train.loc[new_id,'std_max_col'] = tm_l.index(max(tm_l))\n",
    "#             X_train.loc[new_id,'std_min_col'] = tm_l.index(min(tm_l))\n",
    "\n",
    "            total_shift_data = pd.concat([total_shift_data,X_train])\n",
    "            print(total_shift_data.shape)\n",
    "        new_id+=1"
   ]
  },
  {
   "cell_type": "code",
   "execution_count": 17,
   "metadata": {},
   "outputs": [
    {
     "data": {
      "text/html": [
       "<div>\n",
       "<style scoped>\n",
       "    .dataframe tbody tr th:only-of-type {\n",
       "        vertical-align: middle;\n",
       "    }\n",
       "\n",
       "    .dataframe tbody tr th {\n",
       "        vertical-align: top;\n",
       "    }\n",
       "\n",
       "    .dataframe thead tr th {\n",
       "        text-align: left;\n",
       "    }\n",
       "\n",
       "    .dataframe thead tr:last-of-type th {\n",
       "        text-align: right;\n",
       "    }\n",
       "</style>\n",
       "<table border=\"1\" class=\"dataframe\">\n",
       "  <thead>\n",
       "    <tr>\n",
       "      <th></th>\n",
       "      <th colspan=\"3\" halign=\"left\">acc_x</th>\n",
       "      <th colspan=\"3\" halign=\"left\">acc_y</th>\n",
       "      <th colspan=\"3\" halign=\"left\">acc_z</th>\n",
       "      <th colspan=\"3\" halign=\"left\">gy_x</th>\n",
       "      <th colspan=\"3\" halign=\"left\">gy_y</th>\n",
       "      <th colspan=\"3\" halign=\"left\">gy_z</th>\n",
       "      <th>label</th>\n",
       "    </tr>\n",
       "    <tr>\n",
       "      <th></th>\n",
       "      <th>max</th>\n",
       "      <th>min</th>\n",
       "      <th>mean</th>\n",
       "      <th>max</th>\n",
       "      <th>min</th>\n",
       "      <th>mean</th>\n",
       "      <th>max</th>\n",
       "      <th>min</th>\n",
       "      <th>mean</th>\n",
       "      <th>max</th>\n",
       "      <th>min</th>\n",
       "      <th>mean</th>\n",
       "      <th>max</th>\n",
       "      <th>min</th>\n",
       "      <th>mean</th>\n",
       "      <th>max</th>\n",
       "      <th>min</th>\n",
       "      <th>mean</th>\n",
       "      <th></th>\n",
       "    </tr>\n",
       "    <tr>\n",
       "      <th>id</th>\n",
       "      <th></th>\n",
       "      <th></th>\n",
       "      <th></th>\n",
       "      <th></th>\n",
       "      <th></th>\n",
       "      <th></th>\n",
       "      <th></th>\n",
       "      <th></th>\n",
       "      <th></th>\n",
       "      <th></th>\n",
       "      <th></th>\n",
       "      <th></th>\n",
       "      <th></th>\n",
       "      <th></th>\n",
       "      <th></th>\n",
       "      <th></th>\n",
       "      <th></th>\n",
       "      <th></th>\n",
       "      <th></th>\n",
       "    </tr>\n",
       "  </thead>\n",
       "  <tbody>\n",
       "    <tr>\n",
       "      <th>1000</th>\n",
       "      <td>1.344268</td>\n",
       "      <td>0.59194</td>\n",
       "      <td>0.931329</td>\n",
       "      <td>0.176871</td>\n",
       "      <td>-0.624113</td>\n",
       "      <td>-0.218471</td>\n",
       "      <td>-0.054876</td>\n",
       "      <td>-0.786336</td>\n",
       "      <td>-0.370422</td>\n",
       "      <td>31.644123</td>\n",
       "      <td>-46.254837</td>\n",
       "      <td>-1.865269</td>\n",
       "      <td>69.847244</td>\n",
       "      <td>-85.88768</td>\n",
       "      <td>-3.359506</td>\n",
       "      <td>55.953827</td>\n",
       "      <td>-79.930031</td>\n",
       "      <td>1.182107</td>\n",
       "      <td>37</td>\n",
       "    </tr>\n",
       "    <tr>\n",
       "      <th>1000</th>\n",
       "      <td>1.344268</td>\n",
       "      <td>0.59194</td>\n",
       "      <td>0.931329</td>\n",
       "      <td>0.176871</td>\n",
       "      <td>-0.624113</td>\n",
       "      <td>-0.218471</td>\n",
       "      <td>-0.054876</td>\n",
       "      <td>-0.786336</td>\n",
       "      <td>-0.370422</td>\n",
       "      <td>31.644123</td>\n",
       "      <td>-46.254837</td>\n",
       "      <td>-1.865269</td>\n",
       "      <td>69.847244</td>\n",
       "      <td>-85.88768</td>\n",
       "      <td>-3.359506</td>\n",
       "      <td>55.953827</td>\n",
       "      <td>-79.930031</td>\n",
       "      <td>1.182107</td>\n",
       "      <td>37</td>\n",
       "    </tr>\n",
       "    <tr>\n",
       "      <th>1000</th>\n",
       "      <td>1.344268</td>\n",
       "      <td>0.59194</td>\n",
       "      <td>0.931329</td>\n",
       "      <td>0.176871</td>\n",
       "      <td>-0.624113</td>\n",
       "      <td>-0.218471</td>\n",
       "      <td>-0.054876</td>\n",
       "      <td>-0.786336</td>\n",
       "      <td>-0.370422</td>\n",
       "      <td>31.644123</td>\n",
       "      <td>-46.254837</td>\n",
       "      <td>-1.865269</td>\n",
       "      <td>69.847244</td>\n",
       "      <td>-85.88768</td>\n",
       "      <td>-3.359506</td>\n",
       "      <td>55.953827</td>\n",
       "      <td>-79.930031</td>\n",
       "      <td>1.182107</td>\n",
       "      <td>37</td>\n",
       "    </tr>\n",
       "    <tr>\n",
       "      <th>1000</th>\n",
       "      <td>1.344268</td>\n",
       "      <td>0.59194</td>\n",
       "      <td>0.931329</td>\n",
       "      <td>0.176871</td>\n",
       "      <td>-0.624113</td>\n",
       "      <td>-0.218471</td>\n",
       "      <td>-0.054876</td>\n",
       "      <td>-0.786336</td>\n",
       "      <td>-0.370422</td>\n",
       "      <td>31.644123</td>\n",
       "      <td>-46.254837</td>\n",
       "      <td>-1.865269</td>\n",
       "      <td>69.847244</td>\n",
       "      <td>-85.88768</td>\n",
       "      <td>-3.359506</td>\n",
       "      <td>55.953827</td>\n",
       "      <td>-79.930031</td>\n",
       "      <td>1.182107</td>\n",
       "      <td>37</td>\n",
       "    </tr>\n",
       "    <tr>\n",
       "      <th>1000</th>\n",
       "      <td>1.344268</td>\n",
       "      <td>0.59194</td>\n",
       "      <td>0.931329</td>\n",
       "      <td>0.176871</td>\n",
       "      <td>-0.624113</td>\n",
       "      <td>-0.218471</td>\n",
       "      <td>-0.054876</td>\n",
       "      <td>-0.786336</td>\n",
       "      <td>-0.370422</td>\n",
       "      <td>31.644123</td>\n",
       "      <td>-46.254837</td>\n",
       "      <td>-1.865269</td>\n",
       "      <td>69.847244</td>\n",
       "      <td>-85.88768</td>\n",
       "      <td>-3.359506</td>\n",
       "      <td>55.953827</td>\n",
       "      <td>-79.930031</td>\n",
       "      <td>1.182107</td>\n",
       "      <td>37</td>\n",
       "    </tr>\n",
       "  </tbody>\n",
       "</table>\n",
       "</div>"
      ],
      "text/plain": [
       "         acc_x                        acc_y                         acc_z  \\\n",
       "           max      min      mean       max       min      mean       max   \n",
       "id                                                                          \n",
       "1000  1.344268  0.59194  0.931329  0.176871 -0.624113 -0.218471 -0.054876   \n",
       "1000  1.344268  0.59194  0.931329  0.176871 -0.624113 -0.218471 -0.054876   \n",
       "1000  1.344268  0.59194  0.931329  0.176871 -0.624113 -0.218471 -0.054876   \n",
       "1000  1.344268  0.59194  0.931329  0.176871 -0.624113 -0.218471 -0.054876   \n",
       "1000  1.344268  0.59194  0.931329  0.176871 -0.624113 -0.218471 -0.054876   \n",
       "\n",
       "                               gy_x                            gy_y            \\\n",
       "           min      mean        max        min      mean        max       min   \n",
       "id                                                                              \n",
       "1000 -0.786336 -0.370422  31.644123 -46.254837 -1.865269  69.847244 -85.88768   \n",
       "1000 -0.786336 -0.370422  31.644123 -46.254837 -1.865269  69.847244 -85.88768   \n",
       "1000 -0.786336 -0.370422  31.644123 -46.254837 -1.865269  69.847244 -85.88768   \n",
       "1000 -0.786336 -0.370422  31.644123 -46.254837 -1.865269  69.847244 -85.88768   \n",
       "1000 -0.786336 -0.370422  31.644123 -46.254837 -1.865269  69.847244 -85.88768   \n",
       "\n",
       "                     gy_z                      label  \n",
       "          mean        max        min      mean        \n",
       "id                                                    \n",
       "1000 -3.359506  55.953827 -79.930031  1.182107    37  \n",
       "1000 -3.359506  55.953827 -79.930031  1.182107    37  \n",
       "1000 -3.359506  55.953827 -79.930031  1.182107    37  \n",
       "1000 -3.359506  55.953827 -79.930031  1.182107    37  \n",
       "1000 -3.359506  55.953827 -79.930031  1.182107    37  "
      ]
     },
     "execution_count": 17,
     "metadata": {},
     "output_type": "execute_result"
    }
   ],
   "source": [
    "total_shift_data.head()"
   ]
  },
  {
   "cell_type": "code",
   "execution_count": 18,
   "metadata": {},
   "outputs": [
    {
     "data": {
      "text/plain": [
       "(11404, 19)"
      ]
     },
     "execution_count": 18,
     "metadata": {},
     "output_type": "execute_result"
    }
   ],
   "source": [
    "total_shift_data.shape"
   ]
  },
  {
   "cell_type": "code",
   "execution_count": null,
   "metadata": {},
   "outputs": [],
   "source": []
  }
 ],
 "metadata": {
  "kernelspec": {
   "display_name": "Python 3",
   "language": "python",
   "name": "python3"
  },
  "language_info": {
   "codemirror_mode": {
    "name": "ipython",
    "version": 3
   },
   "file_extension": ".py",
   "mimetype": "text/x-python",
   "name": "python",
   "nbconvert_exporter": "python",
   "pygments_lexer": "ipython3",
   "version": "3.6.8"
  }
 },
 "nbformat": 4,
 "nbformat_minor": 2
}
