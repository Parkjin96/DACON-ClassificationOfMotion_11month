{
 "cells": [
  {
   "cell_type": "code",
   "execution_count": null,
   "metadata": {},
   "outputs": [],
   "source": []
  },
  {
   "cell_type": "code",
   "execution_count": 1,
   "metadata": {},
   "outputs": [],
   "source": [
    "\n",
    "## CNN_LSTM structure\n",
    "def CNN_LSTM(q, X_train, Y_train, X_valid, Y_valid, X_test): \n",
    "    inputs = tf.keras.layers.Input(shape=(X_train.shape[1],X_train.shape[2]), name='input')\n",
    "    \n",
    "    norm = tf.keras.layers.experimental.preprocessing.Normalization()\n",
    "    norm.adapt(X_train)\n",
    "    norm_data = norm(inputs)\n",
    "    x = tf.keras.layers.Conv1D(50, 3, activation='relu', padding='same',\n",
    "                               kernel_initializer='he_normal')(norm_data)\n",
    "    x = tf.keras.layers.Conv1D(30, 3, activation='relu', padding='same',\n",
    "                               kernel_initializer='he_normal')(x)\n",
    "\n",
    "    x =tf.keras.layers.Bidirectional(tf.keras.layers.LSTM(20, kernel_initializer='he_normal',\n",
    "                                                          return_sequences=True,recurrent_dropout=0.3))(x)\n",
    "\n",
    "    x= tf.keras.layers.Dense(1)(x)\n",
    "    x1= tf.keras.layers.Flatten()(x)\n",
    "    model = tf.keras.models.Model(inputs=inputs, outputs=x1)\n",
    "    tf.keras.utils.plot_model(model, show_shapes=True)\n",
    "    \n",
    "    model.compile(loss=lambda y,f: quantile_loss(q,y,f), optimizer=get_opt(1e-2))\n",
    "    es = tf.keras.callbacks.EarlyStopping(monitor='val_loss', patience=20, restore_best_weights=True, verbose=1)\n",
    "    history = model.fit(X_train, Y_train, epochs=500, batch_size=16,\n",
    "                        shuffle=True, validation_data=[X_valid, Y_valid], \n",
    "                        callbacks=[es], verbose=0)\n",
    "    \n",
    "\n",
    "    train_score = np.asarray(quantile_loss(q,Y_train,model.predict(X_train))).flatten().mean()\n",
    "    val_score = np.asarray(quantile_loss(q,Y_valid,model.predict(X_valid))).flatten().mean()\n",
    "    print(train_score, val_score)\n",
    "    pred = np.asarray(model.predict(X_test))\n",
    "    return pred, model, val_score"
   ]
  },
  {
   "cell_type": "code",
   "execution_count": 2,
   "metadata": {},
   "outputs": [],
   "source": [
    "## train and predict Test data\n",
    "## models for each 4 ML methods and 9 quantiles are trained\n",
    "def TF_train_func(X_train, Y_train, X_valid, Y_valid, X_test):\n",
    "    models=[]\n",
    "    actual_pred = []\n",
    "    \n",
    "    for model_select in ['CNN','FFN','LSTM','CNNLSTM'\n",
    "                 ]:\n",
    "        score_lst=[]\n",
    "        for q in [0.1,0.2,0.3,0.4,0.5,0.6,0.7,0.8,0.9]:\n",
    "            print(model_select, q)\n",
    "            if model_select=='LSTM':\n",
    "                pred , mod, s = LSTM(q, X_train, Y_train, X_valid, Y_valid, X_test)\n",
    "            elif model_select=='CNN':\n",
    "                pred , mod, s = CNN(q, X_train, Y_train, X_valid, Y_valid, X_test)\n",
    "            elif model_select=='CNNLSTM':\n",
    "                pred , mod, s = CNN_LSTM(q, X_train, Y_train, X_valid, Y_valid, X_test)\n",
    "            elif model_select=='FFN':\n",
    "                pred , mod, s = FFN(q, X_train, Y_train, X_valid, Y_valid, X_test)\n",
    "            score_lst.append(s)\n",
    "            models.append(mod)\n",
    "            actual_pred.append(pred)\n",
    "        print(sum(score_lst)/len(score_lst))\n",
    "    return models, np.asarray(actual_pred)"
   ]
  },
  {
   "cell_type": "code",
   "execution_count": 3,
   "metadata": {},
   "outputs": [
    {
     "ename": "NameError",
     "evalue": "name 'TF_X_train' is not defined",
     "output_type": "error",
     "traceback": [
      "\u001b[1;31m---------------------------------------------------------------------------\u001b[0m",
      "\u001b[1;31mNameError\u001b[0m                                 Traceback (most recent call last)",
      "\u001b[1;32m<ipython-input-3-654778106f30>\u001b[0m in \u001b[0;36m<module>\u001b[1;34m\u001b[0m\n\u001b[1;32m----> 1\u001b[1;33m \u001b[0mprint\u001b[0m\u001b[1;33m(\u001b[0m\u001b[0mTF_X_train\u001b[0m\u001b[1;33m.\u001b[0m\u001b[0mshape\u001b[0m\u001b[1;33m)\u001b[0m\u001b[1;33m\u001b[0m\u001b[1;33m\u001b[0m\u001b[0m\n\u001b[0m\u001b[0;32m      2\u001b[0m \u001b[0mprint\u001b[0m\u001b[1;33m(\u001b[0m\u001b[0mTF_Y_train_1\u001b[0m\u001b[1;33m.\u001b[0m\u001b[0mshape\u001b[0m\u001b[1;33m)\u001b[0m\u001b[1;33m\u001b[0m\u001b[1;33m\u001b[0m\u001b[0m\n\u001b[0;32m      3\u001b[0m \u001b[0mprint\u001b[0m\u001b[1;33m(\u001b[0m\u001b[0mTF_X_valid\u001b[0m\u001b[1;33m.\u001b[0m\u001b[0mshape\u001b[0m\u001b[1;33m)\u001b[0m\u001b[1;33m\u001b[0m\u001b[1;33m\u001b[0m\u001b[0m\n\u001b[0;32m      4\u001b[0m \u001b[0mprint\u001b[0m\u001b[1;33m(\u001b[0m\u001b[0mTF_Y_valid_1\u001b[0m\u001b[1;33m.\u001b[0m\u001b[0mshape\u001b[0m\u001b[1;33m)\u001b[0m\u001b[1;33m\u001b[0m\u001b[1;33m\u001b[0m\u001b[0m\n\u001b[0;32m      5\u001b[0m \u001b[0mprint\u001b[0m\u001b[1;33m(\u001b[0m\u001b[0mtf_test\u001b[0m\u001b[1;33m.\u001b[0m\u001b[0mshape\u001b[0m\u001b[1;33m)\u001b[0m\u001b[1;33m\u001b[0m\u001b[1;33m\u001b[0m\u001b[0m\n",
      "\u001b[1;31mNameError\u001b[0m: name 'TF_X_train' is not defined"
     ]
    }
   ],
   "source": [
    "print(TF_X_train.shape) \n",
    "print(TF_Y_train_1.shape) \n",
    "print(TF_X_valid.shape) \n",
    "print(TF_Y_valid_1.shape)\n",
    "print(tf_test.shape)\n",
    "\n",
    "## train model. prediction for day7 and day 8 are sperately handled by distinct model.\n",
    "## total of 4*9*2 models and trained. each for 4 model types, 9 quantiles and 2 seperate target days\n",
    "models_tf1, results_tf1 = TF_train_func(TF_X_train, TF_Y_train_1 , TF_X_valid, TF_Y_valid_1, tf_test)\n",
    "models_tf2, results_tf2 = TF_train_func(TF_X_train, TF_Y_train_2 , TF_X_valid, TF_Y_valid_2, tf_test)"
   ]
  },
  {
   "cell_type": "code",
   "execution_count": null,
   "metadata": {},
   "outputs": [],
   "source": []
  }
 ],
 "metadata": {
  "kernelspec": {
   "display_name": "Python 3",
   "language": "python",
   "name": "python3"
  },
  "language_info": {
   "codemirror_mode": {
    "name": "ipython",
    "version": 3
   },
   "file_extension": ".py",
   "mimetype": "text/x-python",
   "name": "python",
   "nbconvert_exporter": "python",
   "pygments_lexer": "ipython3",
   "version": "3.6.8"
  }
 },
 "nbformat": 4,
 "nbformat_minor": 2
}
